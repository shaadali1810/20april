{
 "cells": [
  {
   "cell_type": "code",
   "execution_count": 1,
   "id": "5619e7ef-6f5a-4c8f-896f-b76cd6cec796",
   "metadata": {},
   "outputs": [],
   "source": [
    "#1The k-nearest neighbors algorithm, also known as KNN or k-NN, is a non-parametric, supervised learning classifier, which uses proximity to make classifications or predictions about the grouping of an individual data point.\n"
   ]
  },
  {
   "cell_type": "code",
   "execution_count": 2,
   "id": "bdb3b517-20c3-4b52-b061-002efd63a768",
   "metadata": {},
   "outputs": [],
   "source": [
    "#2The optimal K value usually found is the square root of N, where N is the total number of samples. Use an error plot or accuracy plot to find the most favorable K value. KNN performs well with multi-label classes, but you must be aware of the outliers."
   ]
  },
  {
   "cell_type": "code",
   "execution_count": 3,
   "id": "9b944d8c-3e76-4f20-8856-46cb347eb347",
   "metadata": {},
   "outputs": [],
   "source": [
    "#3Regression problems use a similar concept as classification problem, but in this case, the average the k nearest neighbors is taken to make a prediction about a classification. The main distinction here is that classification is used for discrete values, whereas regression is used with continuous ones."
   ]
  },
  {
   "cell_type": "code",
   "execution_count": 4,
   "id": "c0d64c6e-7c54-4c05-8fcb-18f36695f320",
   "metadata": {},
   "outputs": [],
   "source": [
    "#4All the measures are used with the k-NN classifier individually with three different weights, and these measures are applied with k-NN to the same training and test samples each time. For evaluating the performance of k-NN we have used both accuracy (A) and F-score (F) metric. It should be noted that: 1."
   ]
  },
  {
   "cell_type": "code",
   "execution_count": 5,
   "id": "64e7413b-f8a2-453d-b487-7ff8bd12a634",
   "metadata": {},
   "outputs": [],
   "source": [
    "#5KNN is very susceptible to overfitting due to the curse of dimensionality. Curse of dimensionality also describes the phenomenon where the feature space becomes increasingly sparse for an increasing number of dimensions of a fixed-size training dataset."
   ]
  },
  {
   "cell_type": "code",
   "execution_count": 6,
   "id": "075f2085-0435-4caa-9952-2815787e1294",
   "metadata": {},
   "outputs": [],
   "source": [
    "#6The KNN Imputer is applied to fill in the missing values in the selected data. The n_neighbors parameter is set to 5, meaning the imputer will use the mean value of the 5 nearest neighbors to impute the missing values."
   ]
  },
  {
   "cell_type": "code",
   "execution_count": 7,
   "id": "552f3f75-b1a6-474a-be18-6767bf666303",
   "metadata": {},
   "outputs": [],
   "source": [
    "#7You could use both for your problem, but I think regression makes more sense for predicting some sort of \"matching %\"\" between the user and the object you want to recommend to him. Also K NN is a lazy learner as it learns via instances and also known as instance based learning. Might become slow with large data set."
   ]
  },
  {
   "cell_type": "code",
   "execution_count": 8,
   "id": "cb6c9d31-f8a3-49ff-9178-401f3bda2163",
   "metadata": {},
   "outputs": [],
   "source": [
    "#8\n",
    "#1 Advantage 1: Easy to implement and understand. ...\n",
    "#2 Advantage 2: Lazy learning and no assumptions. ...\n",
    "#3 Disadvantage 1: High memory and computational cost. ...\n",
    "#4 Disadvantage 2: Choice of k and distance metric."
   ]
  },
  {
   "cell_type": "code",
   "execution_count": 9,
   "id": "81f41d0f-bf34-41d2-91d6-c17a2cc888bd",
   "metadata": {},
   "outputs": [],
   "source": [
    "#9"
   ]
  },
  {
   "cell_type": "code",
   "execution_count": null,
   "id": "a43632c8-91f3-43e4-9bf6-19ac4c2461d5",
   "metadata": {},
   "outputs": [],
   "source": []
  }
 ],
 "metadata": {
  "kernelspec": {
   "display_name": "Python 3 (ipykernel)",
   "language": "python",
   "name": "python3"
  },
  "language_info": {
   "codemirror_mode": {
    "name": "ipython",
    "version": 3
   },
   "file_extension": ".py",
   "mimetype": "text/x-python",
   "name": "python",
   "nbconvert_exporter": "python",
   "pygments_lexer": "ipython3",
   "version": "3.10.8"
  }
 },
 "nbformat": 4,
 "nbformat_minor": 5
}
